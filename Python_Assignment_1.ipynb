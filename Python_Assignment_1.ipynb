{
 "cells": [
  {
   "cell_type": "markdown",
   "metadata": {},
   "source": [
    "<p><strong> Q 1. In the below elements which of them are values or an expression? eg:- values can be\n",
    "integer or string and expressions will be mathematical operators.\n",
    "<ol>\n",
    "* <br>\n",
    "‘hello’ <br>\n",
    "-87.8 <br>\n",
    "- <br>\n",
    "/ <br>\n",
    "+ <br>\n",
    "6 <br>\n",
    "</ol>\n",
    "</strong></p>"
   ]
  },
  {
   "cell_type": "markdown",
   "metadata": {},
   "source": [
    "#### Answer :\n",
    "hello, -87.8, 6 are values and * , - , / , + are mathematical operators"
   ]
  },
  {
   "cell_type": "markdown",
   "metadata": {},
   "source": [
    "#### Q 2. What is the difference between string and variable?"
   ]
  },
  {
   "cell_type": "markdown",
   "metadata": {},
   "source": [
    "#### Answer :\n",
    "variable is a kind of storage in which we can store different types of data. String is one of the types of data which can be stored in a variable."
   ]
  },
  {
   "cell_type": "markdown",
   "metadata": {},
   "source": [
    "#### Q 3. Describe three different data types."
   ]
  },
  {
   "cell_type": "markdown",
   "metadata": {},
   "source": [
    "#### Answer : \n",
    "<p><strong>The three different data types are as under:</strong></p>\n",
    "<ol>\n",
    "    <li>\n",
    "        <p><strong>Integer</strong>: The int data type contains positive or negative whole numbers (without fractions or decimals). There is no limit on the length of the int value..</p>\n",
    "    </li>\n",
    "    <li>\n",
    "        <p><strong>Dictionary </strong>: It is an unordered sequence of data. The data is in the form of key value pairs.<br>\n",
    "    Example, mydictionary = {\"name\":\"akhil kumar\",\"age\":30} <br>\n",
    "In this case name and age are keys and cannot be changed once created. However the corresponding values for name and age are mutable and can be changed as required.<br>\n",
    "Data inside mydictionary can be assessed by providing the key inside [ ]. In above case, to access value 30 I need to use <i>mydictionary['age']</i>\n",
    "        </p>\n",
    "    </li>\n",
    "     <li>\n",
    "        <p><strong>List</strong>: The list is an ordered collection of data.<br> A list can contain data of different data types. Lists are mutable, which means we can modify it after being declared. The list can have duplicate data and the data is accessed by the index value of the data. <br>\n",
    "Example - fruits is a list, declared as under<br>\n",
    "fruits = [\"apple\", \"banana\", \"cherry\"]<br>\n",
    "To access the data inside the <i>fruits</i> list we need to provide the index of the data to be accessed.<br>\n",
    "</i>fruits[0]</i> will give <i>“apple”</i> as output.\n",
    "        </p>\n",
    "    </li>\n",
    "\n",
    "</ol>"
   ]
  },
  {
   "cell_type": "markdown",
   "metadata": {},
   "source": [
    "#### Q 4. What is an expression made up of? What do all expressions do?"
   ]
  },
  {
   "cell_type": "markdown",
   "metadata": {},
   "source": [
    "#### Answer : \n",
    "<p>An expression is made up of an identifier (class, variable, function) and operator (arithmetic or logical operator). The expression does some operations on the operands and produces some result. Some of the expression types are as under</p>\n",
    "<ol>\n",
    "    <li>\n",
    "        <p><strong>Arithmetic expression</strong>This expression contains combinations of operators and operands. The result of the arithmetic expression is also constant, but the operation need not be done on constant value (as done above).</p>\n",
    "    </li>\n",
    "\n",
    "<li>\n",
    "        <p><strong>Comparison Expression</strong>This type of expression is used to compare the values of the variables.\n",
    "</p>\n",
    "    </li>\n",
    "<li>\n",
    "        <p><strong>Logical Expression </strong>These expressions involve logical operators. This expression returns a Boolean value (True ,False)\n",
    "</p>\n",
    "    </li>\n",
    "</ol>"
   ]
  },
  {
   "cell_type": "code",
   "execution_count": 16,
   "metadata": {},
   "outputs": [],
   "source": [
    "# Arithmetic expression Example\n",
    "X = 2\n",
    "Y = 3\n",
    "Add = X+Y\n",
    "Sub = X-Y\n",
    "Product = X*Y\n"
   ]
  },
  {
   "cell_type": "code",
   "execution_count": 17,
   "metadata": {},
   "outputs": [
    {
     "name": "stdout",
     "output_type": "stream",
     "text": [
      "True\n"
     ]
    }
   ],
   "source": [
    "# Comparison Expression Example\n",
    "\n",
    "X = 5\n",
    "Y = 10\n",
    "Result = X < Y\n",
    "print(Result)\n"
   ]
  },
  {
   "cell_type": "code",
   "execution_count": 18,
   "metadata": {},
   "outputs": [
    {
     "name": "stdout",
     "output_type": "stream",
     "text": [
      "True\n"
     ]
    }
   ],
   "source": [
    "# Logical Expression Example\n",
    "\n",
    "a = \"python\"\n",
    "b = \"language\"\n",
    "result = a!=b\n",
    "print(result)\n",
    "\n"
   ]
  },
  {
   "cell_type": "markdown",
   "metadata": {},
   "source": [
    "#### Q 5. This assignment statements, like spam = 10. What is the difference between an expression and a statement?\n"
   ]
  },
  {
   "cell_type": "markdown",
   "metadata": {},
   "source": [
    "#### Answer : \n",
    "<ol>\n",
    "The statements are instructions that perform an action or control the program execution. Statements don’t produce a value. On the other hand, expressions result in some kind of output/value. An expression can be part of a statement but not vice versa.\n",
    "</ol>"
   ]
  },
  {
   "cell_type": "markdown",
   "metadata": {},
   "source": [
    "#### Q 6. After running the following code, what does the variable bacon contain?\n",
    "bacon = 22\n",
    "bacon + 1\n"
   ]
  },
  {
   "cell_type": "markdown",
   "metadata": {},
   "source": [
    "#### Answer : \n",
    "<ol>\n",
    "22. we have added 1 but not assigned it back to variable bacon\n",
    "</ol>"
   ]
  },
  {
   "cell_type": "code",
   "execution_count": 19,
   "metadata": {},
   "outputs": [
    {
     "name": "stdout",
     "output_type": "stream",
     "text": [
      "22\n"
     ]
    }
   ],
   "source": [
    "print(bacon)"
   ]
  },
  {
   "cell_type": "markdown",
   "metadata": {},
   "source": [
    "#### Q 7.What should the values of the following two terms be?\n",
    "'spam'+'spamspam'\n",
    "'spam'*3\n"
   ]
  },
  {
   "cell_type": "code",
   "execution_count": 20,
   "metadata": {},
   "outputs": [
    {
     "name": "stdout",
     "output_type": "stream",
     "text": [
      "spamspamspam\n",
      "spamspamspam\n"
     ]
    }
   ],
   "source": [
    "a= 'spam'+'spamspam'\n",
    "b = 'spam'*3\n",
    "print(a)\n",
    "print(b)"
   ]
  },
  {
   "cell_type": "markdown",
   "metadata": {},
   "source": [
    "#### Q 8.Why is eggs a valid variable name while 100 is invalid?"
   ]
  },
  {
   "cell_type": "markdown",
   "metadata": {},
   "source": [
    "#### Answer : \n",
    "<ol>\n",
    " eggs start with an alphabet and 100 starts with a numeric value.\n",
    "\n",
    "</ol>"
   ]
  },
  {
   "cell_type": "markdown",
   "metadata": {},
   "source": [
    "#### Q 9. What three functions can be used to get the integer, floating-point number, or string version of a value?\n"
   ]
  },
  {
   "cell_type": "markdown",
   "metadata": {},
   "source": [
    "#### Answer : \n",
    "<ol>\n",
    "Int() function – it returns the integer value of the value provided inside brackets.<br>\n",
    "float() function – It returns float value of the value provided inside brackets<br>\n",
    "str() function – It returns string version of the value provided inside brackets<br>\n",
    "</ol>"
   ]
  },
  {
   "cell_type": "code",
   "execution_count": 28,
   "metadata": {},
   "outputs": [
    {
     "name": "stdout",
     "output_type": "stream",
     "text": [
      "13\n",
      "13.0\n",
      "13\n"
     ]
    }
   ],
   "source": [
    "#int function\n",
    "a = int(13.4)\n",
    "print(a)\n",
    "\n",
    "#float function\n",
    "fl = float(13)\n",
    "print(fl)\n",
    "\n",
    "#str function\n",
    "st = str(13)\n",
    "print(st)"
   ]
  },
  {
   "cell_type": "markdown",
   "metadata": {},
   "source": [
    "#### Q 9.  Why does this expression cause an error? How can you fix it?\n",
    "‘I have eaten ‘ + 99 + ‘ burritos.’\n"
   ]
  },
  {
   "cell_type": "code",
   "execution_count": 32,
   "metadata": {},
   "outputs": [
    {
     "name": "stdout",
     "output_type": "stream",
     "text": [
      "I have eaten 99 burritos.\n",
      "I have eaten 99 burritos.\n"
     ]
    }
   ],
   "source": [
    "#Answer\n",
    "\n",
    "answer1 = \"I have eaten \" + \"99\" + \" burritos.\"\n",
    "answer2 = f\"I have eaten {99} burritos.\"\n",
    "\n",
    "print(answer1)\n",
    "print(answer2)"
   ]
  },
  {
   "cell_type": "code",
   "execution_count": null,
   "metadata": {},
   "outputs": [],
   "source": []
  }
 ],
 "metadata": {
  "kernelspec": {
   "display_name": "Python 3",
   "language": "python",
   "name": "python3"
  },
  "language_info": {
   "codemirror_mode": {
    "name": "ipython",
    "version": 3
   },
   "file_extension": ".py",
   "mimetype": "text/x-python",
   "name": "python",
   "nbconvert_exporter": "python",
   "pygments_lexer": "ipython3",
   "version": "3.8.3"
  }
 },
 "nbformat": 4,
 "nbformat_minor": 4
}
